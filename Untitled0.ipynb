{
  "nbformat": 4,
  "nbformat_minor": 0,
  "metadata": {
    "colab": {
      "provenance": [],
      "authorship_tag": "ABX9TyMqYdZAY4LHoXSyk2PAm1f8",
      "include_colab_link": true
    },
    "kernelspec": {
      "name": "python3",
      "display_name": "Python 3"
    },
    "language_info": {
      "name": "python"
    }
  },
  "cells": [
    {
      "cell_type": "markdown",
      "metadata": {
        "id": "view-in-github",
        "colab_type": "text"
      },
      "source": [
        "<a href=\"https://colab.research.google.com/github/dvzin0801/python-colab/blob/main/Untitled0.ipynb\" target=\"_parent\"><img src=\"https://colab.research.google.com/assets/colab-badge.svg\" alt=\"Open In Colab\"/></a>"
      ]
    },
    {
      "cell_type": "code",
      "source": [
        "import matplotlib.pyplot as plt\n",
        "# classe para representar um livro\n",
        "class livro:\n",
        "  def __init__(self, titulo, autor, ano_publicacao):\n",
        "    self.titulo = titulo\n",
        "    self.autor = autor\n",
        "    self.ano_publicacao = ano_publicacao\n",
        "\n",
        "  def __str__(self):\n",
        "    return f\"{self.titulo} por {self.autor}, publicado em {self.ano_publicacao}\""
      ],
      "metadata": {
        "id": "28Hr6ykQ7HrS"
      },
      "execution_count": 27,
      "outputs": []
    },
    {
      "cell_type": "code",
      "source": [
        "# criar uma lista de livros\n",
        "biblioteca = []\n",
        "\n",
        "# lista para armazenar anos de publicação\n",
        "anos = []\n",
        "\n",
        "# função para adicionar um livro á biblioteca\n",
        "def adicionar_livro(titulo, autor, ano_publicacao):\n",
        "  novo_livro = livro(titulo, autor, ano_publicacao)\n",
        "  biblioteca.append(novo_livro)\n",
        "  anos.append(ano_publicacao) #adiciona o ano a lista anos\n",
        "  print (f\" O livro '{titulo}' foi adicionado a bilbioteca.\")\n",
        "\n",
        "#função para citar todos os livros da biblioteca\n",
        "def listar_livros():\n",
        "  print(\"livros na biblioteca:\")\n",
        "  for livro in biblioteca:\n",
        "    print(livro)\n",
        "\n",
        "# adicionar alguns livros na biblioteca\n",
        "adicionar_livro(\"Dom Quixote\", \"Miguel de cervantes\", 1605)"
      ],
      "metadata": {
        "id": "cfHxQZ7m-3BR"
      },
      "execution_count": 31,
      "outputs": []
    },
    {
      "cell_type": "code",
      "source": [
        "# listar todos os livros na biblioteca\n",
        "listar_livros()\n",
        "\n",
        "\n",
        "# criar um grafico de livros por ano\n",
        "anos = list(set(anos)) # remove duplicatas por ano\n",
        "anos.sort()\n",
        "\n",
        "#contagem de livros por ano\n",
        "contagem_por_ano = [anos.count(ano) for ano in anos]\n",
        "\n",
        "# criar um grafico de linha\n",
        "plt.plot(anos, contagem_por_ano, marker = 'o', linestyle='-')\n",
        "plt.xlabel('ano de publicação')\n",
        "plt.ylabel('numero de livros')\n",
        "plt.title('distribuição de livros na biblioteca por ano de publicação')\n",
        "\n",
        "# adicionar rótulos aos pontos de dados\n",
        "for i, valor in enumerate(contagem_por_ano):\n",
        "  plt.text(anos[i], valor, str(valor), ha='center', va='bottom')\n",
        "\n",
        "plt.grid(True)\n",
        "\n",
        "plt.show()"
      ],
      "metadata": {
        "colab": {
          "base_uri": "https://localhost:8080/",
          "height": 106
        },
        "id": "9GN1n0Do9ixc",
        "outputId": "8d7bab69-c8b4-41e5-d39b-392c75f2d7d6"
      },
      "execution_count": 29,
      "outputs": [
        {
          "output_type": "error",
          "ename": "IndentationError",
          "evalue": "unexpected indent (ipython-input-1236286044.py, line 2)",
          "traceback": [
            "\u001b[0;36m  File \u001b[0;32m\"/tmp/ipython-input-1236286044.py\"\u001b[0;36m, line \u001b[0;32m2\u001b[0m\n\u001b[0;31m    listar_livros()\u001b[0m\n\u001b[0m    ^\u001b[0m\n\u001b[0;31mIndentationError\u001b[0m\u001b[0;31m:\u001b[0m unexpected indent\n"
          ]
        }
      ]
    }
  ]
}